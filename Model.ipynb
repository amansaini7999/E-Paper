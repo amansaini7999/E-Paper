{
 "cells": [
  {
   "cell_type": "code",
   "execution_count": 1,
   "metadata": {},
   "outputs": [],
   "source": [
    "import gensim\n",
    "import pandas as pd\n",
    "import nltk\n",
    "import numpy as np\n",
    "import re\n",
    "from scipy.spatial import distance\n",
    "from nltk.corpus import stopwords"
   ]
  },
  {
   "cell_type": "code",
   "execution_count": null,
   "metadata": {},
   "outputs": [],
   "source": [
    "model = gensim.models.KeyedVectors.load_word2vec_format('GoogleNews-vectors-negative300.bin', binary=True)\n",
    "stop_words = stopwords.words('english')"
   ]
  },
  {
   "cell_type": "code",
   "execution_count": 3,
   "metadata": {},
   "outputs": [],
   "source": [
    "def preprocess(text):\n",
    "    text = re.sub(\"[^a-zA-Z]\", \" \", text)\n",
    "    text = text.lower().split()\n",
    "    stopwords_set = set(stopwords.words(\"english\"))\n",
    "    text = list(set([w for w in text if w not in stopwords_set]))\n",
    "    \n",
    "    return text"
   ]
  },
  {
   "cell_type": "code",
   "execution_count": 4,
   "metadata": {},
   "outputs": [
    {
     "name": "stdout",
     "output_type": "stream",
     "text": [
      "Introduction of Deadlock in Operating System A process in operating systems uses different resources and uses resources in following way. 1) Requests a resource 2) Use the resource 2) Releases the resource  Deadlock is a situation where a set of processes are blocked because each process is holding a resource and waiting for another resource acquired by some other process. Consider an example when two trains are coming toward each other on same track and there is only one track, none of the trains can move once they are in front of each other. Similar situation occurs in operating systems when there are two or more processes hold some resources and wait for resources held by other(s). For example, in the below diagram, Process 1 is holding Resource 1 and waiting for resource 2 which is acquired by process 2, and process 2 is waiting for resource 1.  Deadlock can arise if following four conditions hold simultaneously (Necessary Conditions) Mutual Exclusion: One or more than one resource are non-sharable (Only one process can use at a time) Hold and Wait: A process is holding at least one resource and waiting for resources. No Preemption: A resource cannot be taken from a process unless the process releases the resource. Circular Wait: A set of processes are waiting for each other in circular form. Methods for handling deadlock There are three ways to handle deadlock 1) Deadlock prevention or avoidance: The idea is to not let the system into deadlock state. One can zoom into each category individually, Prevention is done by negating one of above mentioned necessary conditions for deadlock. Avoidance is kind of futuristic in nature. By using strategy of “Avoidance”, we have to make an assumption. We need to ensure that all information about resources which process WILL need are known to us prior to execution of the process. We use Banker’s algorithm (Which is in-turn a gift from) in order to avoid deadlock.  2) Deadlock detection and recovery: Let deadlock occur, then do preemption to handle it once occurred.  3) Ignore the problem all together: If deadlock is very rare, then let it happen and reboot the system. This is the approach that both Windows and UNIX take.\n",
      "A deadlock is a situation in which two computer programs sharing the same resource are effectively preventing each other from accessing the resource, resulting in both programs ceasing to function. The earliest computer operating systems ran only one program at a time. All of the resources of the system were available to this one program. Later, operating systems ran multiple programs at once, interleaving them. Programs were required to specify in advance what resources they needed so that they could avoid conflicts with other programs running at the same time. Eventually some operating systems offered dynamic allocation of resources. Programs could request further allocations of resources after they had begun running. This led to the problem of the deadlock. Here is the simplest example: Program 1 requests resource A and receives it.   Program 2 requests resource B and receives it.   Program 1 requests resource B and is queued up, pending the release of B.   Program 2 requests resource A and is queued up, pending the release of A.Now neither program can proceed until the other program releases a resource. The operating system cannot know what action to take. At this point the only alternative is to abort (stop) one of the programs.  Learning to deal with deadlocks had a major impact on the development of operating systems and the structure of databases. Data was structured and the order of requests was constrained in order to avoid creating deadlocks.\n",
      "['process', 'set', 'toward', 'non', 'deadlock', 'let', 'handle', 'example', 'occur', 'together', 'methods', 'ways', 'using', 'occurred', 'recovery', 'cannot', 'kind', 'coming', 'futuristic', 'individually', 'blocked', 'algorithm', 'one', 'take', 'front', 'necessary', 'handling', 'different', 'processes', 'happen', 'zoom', 'three', 'system', 'releases', 'avoidance', 'circular', 'occurs', 'avoid', 'unless', 'assumption', 'strategy', 'following', 'consider', 'track', 'resource', 'introduction', 'negating', 'situation', 'mutual', 'problem', 'hold', 'turn', 'waiting', 'reboot', 'ignore', 'detection', 'approach', 'another', 'done', 'idea', 'none', 'order', 'unix', 'uses', 'diagram', 'acquired', 'ensure', 'resources', 'us', 'windows', 'use', 'requests', 'information', 'banker', 'preemption', 'operating', 'trains', 'taken', 'similar', 'systems', 'exclusion', 'rare', 'two', 'four', 'way', 'conditions', 'sharable', 'least', 'time', 'wait', 'need', 'move', 'arise', 'prevention', 'form', 'gift', 'category', 'holding', 'execution', 'nature', 'prior', 'state', 'simultaneously', 'held', 'mentioned', 'make', 'known']\n",
      "['impact', 'request', 'preventing', 'function', 'order', 'two', 'avoid', 'data', 'deadlock', 'know', 'needed', 'release', 'allocation', 'b', 'queued', 'eventually', 'example', 'conflicts', 'time', 'creating', 'neither', 'abort', 'structured', 'ran', 'earliest', 'resources', 'receives', 'required', 'accessing', 'advance', 'cannot', 'led', 'proceed', 'program', 'simplest', 'action', 'ceasing', 'programs', 'learning', 'resource', 'sharing', 'development', 'requests', 'one', 'dynamic', 'take', 'situation', 'specify', 'computer', 'multiple', 'structure', 'could', 'alternative', 'point', 'stop', 'major', 'offered', 'problem', 'running', 'deadlocks', 'resulting', 'constrained', 'operating', 'interleaving', 'pending', 'databases', 'later', 'effectively', 'allocations', 'begun', 'available', 'system', 'deal', 'systems', 'releases']\n"
     ]
    }
   ],
   "source": [
    "df = pd.read_csv('Dataset.csv')\n",
    "\n",
    "s1 = df['5'][0]\n",
    "s2 = df['5'][1]\n",
    "\n",
    "print(s1)\n",
    "print(s2)\n",
    "\n",
    "s1 = preprocess(s1)\n",
    "s2 = preprocess(s2)\n",
    "\n",
    "print(s1)\n",
    "print(s2)"
   ]
  },
  {
   "cell_type": "code",
   "execution_count": 5,
   "metadata": {},
   "outputs": [
    {
     "data": {
      "text/plain": [
       "90.72"
      ]
     },
     "execution_count": 5,
     "metadata": {},
     "output_type": "execute_result"
    }
   ],
   "source": [
    "vector1 = np.mean([model[word] for word in s1], axis=0)\n",
    "vector2 = np.mean([model[word] for word in s2], axis=0)\n",
    "\n",
    "cosine = distance.cosine(vector1, vector2)\n",
    "sim = round((1-cosine)*100, 2)\n",
    "sim"
   ]
  }
 ],
 "metadata": {
  "kernelspec": {
   "display_name": "Python 3",
   "language": "python",
   "name": "python3"
  },
  "language_info": {
   "codemirror_mode": {
    "name": "ipython",
    "version": 3
   },
   "file_extension": ".py",
   "mimetype": "text/x-python",
   "name": "python",
   "nbconvert_exporter": "python",
   "pygments_lexer": "ipython3",
   "version": "3.7.3"
  }
 },
 "nbformat": 4,
 "nbformat_minor": 2
}
