{
 "cells": [
  {
   "cell_type": "code",
   "execution_count": 1,
   "metadata": {},
   "outputs": [],
   "source": [
    "import gensim\n",
    "import pandas as pd\n",
    "import nltk\n",
    "import numpy as np\n",
    "import re\n",
    "from scipy.spatial import distance\n",
    "from nltk.corpus import stopwords"
   ]
  },
  {
   "cell_type": "code",
   "execution_count": 2,
   "metadata": {},
   "outputs": [],
   "source": [
    "model = gensim.models.KeyedVectors.load_word2vec_format('GoogleNews-vectors-negative300.bin', binary=True)\n",
    "stop_words = stopwords.words('english')"
   ]
  },
  {
   "cell_type": "code",
   "execution_count": 3,
   "metadata": {},
   "outputs": [
    {
     "data": {
      "text/plain": [
       "(3000000, 300)"
      ]
     },
     "execution_count": 3,
     "metadata": {},
     "output_type": "execute_result"
    }
   ],
   "source": [
    "model.vectors.shape"
   ]
  },
  {
   "cell_type": "code",
   "execution_count": 4,
   "metadata": {},
   "outputs": [],
   "source": [
    "def preprocess(text):\n",
    "    text = re.sub(\"[^a-zA-Z]\", \" \", text)\n",
    "    text = text.lower().split()\n",
    "    stopwords_set = set(stopwords.words(\"english\"))\n",
    "    text = list(set([w for w in text if w not in stopwords_set]))\n",
    "    \n",
    "    s = []\n",
    "    for i in text:\n",
    "        if i in model.vocab:\n",
    "            s.append(i);\n",
    "    \n",
    "    return s"
   ]
  },
  {
   "cell_type": "code",
   "execution_count": 5,
   "metadata": {},
   "outputs": [],
   "source": [
    "M1 = \"Introduction of Deadlock in Operating System A process in operating systems uses different resources and uses resources in following way. 1) Requests a resource 2) Use the resource 2) Releases the resource  Deadlock is a situation where a set of processes are blocked because each process is holding a resource and waiting for another resource acquired by some other process. Consider an example when two trains are coming toward each other on same track and there is only one track, none of the trains can move once they are in front of each other. Similar situation occurs in operating systems when there are two or more processes hold some resources and wait for resources held by other(s). For example, in the below diagram, Process 1 is holding Resource 1 and waiting for resource 2 which is acquired by process 2, and process 2 is waiting for resource 1.  Deadlock can arise if following four conditions hold simultaneously (Necessary Conditions) Mutual Exclusion: One or more than one resource are non-sharable (Only one process can use at a time) Hold and Wait: A process is holding at least one resource and waiting for resources. No Preemption: A resource cannot be taken from a process unless the process releases the resource. Circular Wait: A set of processes are waiting for each other in circular form. Methods for handling deadlock There are three ways to handle deadlock 1) Deadlock prevention or avoidance: The idea is to not let the system into deadlock state. One can zoom into each category individually, Prevention is done by negating one of above mentioned necessary conditions for deadlock. Avoidance is kind of futuristic in nature. By using strategy of “Avoidance”, we have to make an assumption. We need to ensure that all information about resources which process WILL need are known to us prior to execution of the process. We use Banker’s algorithm (Which is in-turn a gift from) in order to avoid deadlock.  2) Deadlock detection and recovery: Let deadlock occur, then do preemption to handle it once occurred.  3) Ignore the problem all together: If deadlock is very rare, then let it happen and reboot the system. This is the approach that both Windows and UNIX take.\"\n",
    "M2 = \"A thread is the smallest unit of processing that can be performed in an OS. In most modern operating systems, a thread exists within a process - that is, a single process may contain multiple threads. You can imagine multitasking as something that allows processes to run concurrently, while multithreading allows sub-processes to run concurrently. When multiple threads are running concurrently, this is known as multithreading, which is similar to multitasking. Basically, an operating system with multitasking capabilities allows programs (or processes) to run seemingly at the same time. On the other hand, a single program with multithreading capabilities allows individual sub-processes (or threads) to run seemingly at the same time. One example of multithreading is downloading a video while playing it at the same time. Multithreading is also used extensively in computer-generated animation. Among the widely-used programming languages that allow developers to work on threads in their program source code are Java, Python and .NET.\"\n",
    "\n",
    "M1 = preprocess(M1)\n",
    "M2 = preprocess(M2)"
   ]
  },
  {
   "cell_type": "code",
   "execution_count": 6,
   "metadata": {},
   "outputs": [],
   "source": [
    "df = pd.read_csv('Store.csv')\n",
    "df = df.drop(['id'], axis = 1)\n",
    "df = df.drop([1], axis = 0)\n",
    "df = df.set_index('Roll Number')"
   ]
  },
  {
   "cell_type": "code",
   "execution_count": 7,
   "metadata": {},
   "outputs": [
    {
     "name": "stderr",
     "output_type": "stream",
     "text": [
      "/home/aman/anaconda3/lib/python3.7/site-packages/numpy/core/fromnumeric.py:3118: RuntimeWarning: Mean of empty slice.\n",
      "  out=out, **kwargs)\n",
      "/home/aman/anaconda3/lib/python3.7/site-packages/numpy/core/_methods.py:85: RuntimeWarning: invalid value encountered in double_scalars\n",
      "  ret = ret.dtype.type(ret / rcount)\n"
     ]
    }
   ],
   "source": [
    "li = []\n",
    "\n",
    "ct = len(df.index)\n",
    "for i in range(ct):\n",
    "    RollNumber = df.index[i]\n",
    "    A1 = df.loc[df.index[i]][0]\n",
    "    A2 = df.loc[df.index[i]][1]\n",
    "    \n",
    "    A1 = preprocess(A1)\n",
    "    A2 = preprocess(A2)\n",
    "    \n",
    "    vector1 = np.mean([model[word] for word in M1], axis=0)\n",
    "    vector2 = np.mean([model[word] for word in A1], axis=0)\n",
    "    \n",
    "    vector3 = np.mean([model[word] for word in M2], axis=0)\n",
    "    vector4 = np.mean([model[word] for word in A2], axis=0)\n",
    "    \n",
    "    cosine = distance.cosine(vector1, vector2)\n",
    "    sim1 = round((1-cosine)*100, 2)\n",
    "    \n",
    "    cosine = distance.cosine(vector3, vector4)\n",
    "    sim2 = round((1-cosine)*100, 2)\n",
    "    \n",
    "    li.append([RollNumber, sim1, sim2])"
   ]
  },
  {
   "cell_type": "code",
   "execution_count": 8,
   "metadata": {},
   "outputs": [
    {
     "data": {
      "text/html": [
       "<div>\n",
       "<style scoped>\n",
       "    .dataframe tbody tr th:only-of-type {\n",
       "        vertical-align: middle;\n",
       "    }\n",
       "\n",
       "    .dataframe tbody tr th {\n",
       "        vertical-align: top;\n",
       "    }\n",
       "\n",
       "    .dataframe thead th {\n",
       "        text-align: right;\n",
       "    }\n",
       "</style>\n",
       "<table border=\"1\" class=\"dataframe\">\n",
       "  <thead>\n",
       "    <tr style=\"text-align: right;\">\n",
       "      <th></th>\n",
       "      <th>Similarity Score Answer 1</th>\n",
       "      <th>Similarity Score Answer 2</th>\n",
       "    </tr>\n",
       "    <tr>\n",
       "      <th>RollNumber</th>\n",
       "      <th></th>\n",
       "      <th></th>\n",
       "    </tr>\n",
       "  </thead>\n",
       "  <tbody>\n",
       "    <tr>\n",
       "      <th>testuser</th>\n",
       "      <td>0.00</td>\n",
       "      <td>25.40</td>\n",
       "    </tr>\n",
       "    <tr>\n",
       "      <th>1234</th>\n",
       "      <td>0.00</td>\n",
       "      <td>0.00</td>\n",
       "    </tr>\n",
       "    <tr>\n",
       "      <th>4301</th>\n",
       "      <td>0.00</td>\n",
       "      <td>10.85</td>\n",
       "    </tr>\n",
       "    <tr>\n",
       "      <th>4302</th>\n",
       "      <td>90.72</td>\n",
       "      <td>88.98</td>\n",
       "    </tr>\n",
       "    <tr>\n",
       "      <th>4304</th>\n",
       "      <td>73.85</td>\n",
       "      <td>85.64</td>\n",
       "    </tr>\n",
       "    <tr>\n",
       "      <th>4305</th>\n",
       "      <td>17.49</td>\n",
       "      <td>0.00</td>\n",
       "    </tr>\n",
       "    <tr>\n",
       "      <th>4306</th>\n",
       "      <td>0.00</td>\n",
       "      <td>0.00</td>\n",
       "    </tr>\n",
       "  </tbody>\n",
       "</table>\n",
       "</div>"
      ],
      "text/plain": [
       "            Similarity Score Answer 1  Similarity Score Answer 2\n",
       "RollNumber                                                      \n",
       "testuser                         0.00                      25.40\n",
       "1234                             0.00                       0.00\n",
       "4301                             0.00                      10.85\n",
       "4302                            90.72                      88.98\n",
       "4304                            73.85                      85.64\n",
       "4305                            17.49                       0.00\n",
       "4306                             0.00                       0.00"
      ]
     },
     "execution_count": 8,
     "metadata": {},
     "output_type": "execute_result"
    }
   ],
   "source": [
    "df = pd.DataFrame(li)\n",
    "df.fillna(0, inplace = True)\n",
    "df = df.rename(columns = {0:'RollNumber', 1:'Similarity Score Answer 1', 2:'Similarity Score Answer 2'})\n",
    "df = df.set_index(\"RollNumber\")\n",
    "df"
   ]
  },
  {
   "cell_type": "code",
   "execution_count": null,
   "metadata": {},
   "outputs": [],
   "source": []
  }
 ],
 "metadata": {
  "kernelspec": {
   "display_name": "Python 3",
   "language": "python",
   "name": "python3"
  },
  "language_info": {
   "codemirror_mode": {
    "name": "ipython",
    "version": 3
   },
   "file_extension": ".py",
   "mimetype": "text/x-python",
   "name": "python",
   "nbconvert_exporter": "python",
   "pygments_lexer": "ipython3",
   "version": "3.7.3"
  }
 },
 "nbformat": 4,
 "nbformat_minor": 2
}
